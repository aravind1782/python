{
 "cells": [
  {
   "cell_type": "code",
   "execution_count": 1,
   "id": "a6d5f2e9",
   "metadata": {},
   "outputs": [],
   "source": [
    "##average of three numbers"
   ]
  },
  {
   "cell_type": "code",
   "execution_count": 2,
   "id": "0f4692a7",
   "metadata": {},
   "outputs": [
    {
     "name": "stdout",
     "output_type": "stream",
     "text": [
      "40.0\n",
      "<class 'float'>\n"
     ]
    }
   ],
   "source": [
    "a=10\n",
    "b=20\n",
    "c=30\n",
    "average=a+b+c/3\n",
    "print(average)\n",
    "print(type(average))"
   ]
  },
  {
   "cell_type": "markdown",
   "id": "3bb95ec0",
   "metadata": {},
   "source": [
    "## multiplication of three numbers"
   ]
  },
  {
   "cell_type": "code",
   "execution_count": 3,
   "id": "fc1acdc0",
   "metadata": {},
   "outputs": [
    {
     "name": "stdout",
     "output_type": "stream",
     "text": [
      "24\n"
     ]
    }
   ],
   "source": [
    "a=2\n",
    "b=3\n",
    "c=4\n",
    "multiplication=a*b*c\n",
    "print(multiplication)\n"
   ]
  },
  {
   "cell_type": "markdown",
   "id": "b4243eab",
   "metadata": {},
   "source": [
    "##add of two num"
   ]
  },
  {
   "cell_type": "code",
   "execution_count": 4,
   "id": "bf822a33",
   "metadata": {},
   "outputs": [
    {
     "name": "stdout",
     "output_type": "stream",
     "text": [
      "enter value4\n",
      "enter value5\n",
      "9\n"
     ]
    }
   ],
   "source": [
    "a=int(input(\"enter value\"))\n",
    "b=int(input(\"enter value\"))\n",
    "add=a+b\n",
    "print(add)\n",
    "print(type(add))"
   ]
  },
  {
   "cell_type": "markdown",
   "id": "99f7e229",
   "metadata": {},
   "source": [
    "##average of three num"
   ]
  },
  {
   "cell_type": "code",
   "execution_count": 7,
   "id": "1f3aeedf",
   "metadata": {},
   "outputs": [
    {
     "name": "stdout",
     "output_type": "stream",
     "text": [
      "enter value2\n",
      "enter value3\n",
      "enter value4\n",
      "6.333333333333333\n",
      "<class 'float'>\n"
     ]
    }
   ],
   "source": [
    "a=int(input(\"enter value\"))\n",
    "b=int(input(\"enter value\"))\n",
    "c=int(input(\"enter value\"))\n",
    "average=a+b+c/3\n",
    "print(average)\n",
    "print(type(average))"
   ]
  },
  {
   "cell_type": "markdown",
   "id": "61008ae3",
   "metadata": {},
   "source": [
    "#conversion to float"
   ]
  },
  {
   "cell_type": "code",
   "execution_count": 8,
   "id": "6c5cbe9e",
   "metadata": {},
   "outputs": [
    {
     "name": "stdout",
     "output_type": "stream",
     "text": [
      "<class 'int'>\n",
      "<class 'float'>\n",
      "3.0\n",
      "10\n"
     ]
    }
   ],
   "source": [
    "a=10\n",
    "print(type(a))\n",
    "b=float(b)\n",
    "print(type(b))\n",
    "print(b)\n",
    "print(a)"
   ]
  },
  {
   "cell_type": "markdown",
   "id": "118295e0",
   "metadata": {},
   "source": [
    "## conver to int"
   ]
  },
  {
   "cell_type": "markdown",
   "id": "5e3ba96e",
   "metadata": {},
   "source": [
    "a=10\n",
    "print(type(a))\n",
    "b=int(b)\n",
    "print(type(b))\n",
    "print(b)\n",
    "print(a)"
   ]
  },
  {
   "cell_type": "code",
   "execution_count": 10,
   "id": "95540e12",
   "metadata": {},
   "outputs": [
    {
     "name": "stdout",
     "output_type": "stream",
     "text": [
      "<class 'float'>\n",
      "<class 'int'>\n",
      "10\n",
      "10.3\n"
     ]
    }
   ],
   "source": [
    "a=10.3\n",
    "print(type(a))\n",
    "b=int(a)\n",
    "print(type(b))\n",
    "print(b)\n",
    "print(a)"
   ]
  },
  {
   "cell_type": "markdown",
   "id": "ddb1bd71",
   "metadata": {},
   "source": [
    "# float to string"
   ]
  },
  {
   "cell_type": "code",
   "execution_count": 11,
   "id": "9f4566f0",
   "metadata": {},
   "outputs": [
    {
     "name": "stdout",
     "output_type": "stream",
     "text": [
      "12.5\n",
      "<class 'int'>\n",
      "12\n",
      "12.5\n"
     ]
    }
   ],
   "source": [
    "a=12.5\n",
    "print(str(a))\n",
    "b=int(a)\n",
    "print(type(b))\n",
    "print(b)\n",
    "print(a)\n"
   ]
  },
  {
   "cell_type": "markdown",
   "id": "356febe1",
   "metadata": {},
   "source": [
    "# int to string"
   ]
  },
  {
   "cell_type": "code",
   "execution_count": 12,
   "id": "e80aa534",
   "metadata": {},
   "outputs": [
    {
     "name": "stdout",
     "output_type": "stream",
     "text": [
      "12\n",
      "<class 'int'>\n",
      "12\n",
      "12.5\n"
     ]
    }
   ],
   "source": [
    "a=12.5\n",
    "print(int(a))\n",
    "b=int(a)\n",
    "print(type(b))\n",
    "print(b)\n",
    "print(a)\n"
   ]
  },
  {
   "cell_type": "markdown",
   "id": "46f32b2a",
   "metadata": {},
   "source": [
    "# boolean"
   ]
  },
  {
   "cell_type": "code",
   "execution_count": 13,
   "id": "2c445ebc",
   "metadata": {},
   "outputs": [
    {
     "name": "stdout",
     "output_type": "stream",
     "text": [
      "True\n",
      "<class 'bool'>\n"
     ]
    }
   ],
   "source": [
    "a=10\n",
    "b=5\n",
    "c=b<a\n",
    "print(bool(c))\n",
    "print(type(c))"
   ]
  },
  {
   "cell_type": "markdown",
   "id": "6bfa35e0",
   "metadata": {},
   "source": [
    "# boolean to int"
   ]
  },
  {
   "cell_type": "code",
   "execution_count": null,
   "id": "9414ba5b",
   "metadata": {},
   "outputs": [],
   "source": [
    "z=10\n",
    "b=5\n",
    "c=b<z\n",
    "print(bool(c))\n",
    "print(type(c))\n",
    "d=int(c)\n",
    "print(type(d))\n",
    "printd(d)"
   ]
  },
  {
   "cell_type": "markdown",
   "id": "2d18e59f",
   "metadata": {},
   "source": [
    "#bool to float"
   ]
  },
  {
   "cell_type": "code",
   "execution_count": null,
   "id": "8799e788",
   "metadata": {},
   "outputs": [],
   "source": [
    "z=10\n",
    "b=5\n",
    "c=b<z\n",
    "print(bool(c))\n",
    "print(type(c))\n",
    "d=float(c)\n",
    "print(type(d))\n",
    "printd(d)"
   ]
  },
  {
   "cell_type": "markdown",
   "id": "f338c020",
   "metadata": {},
   "source": [
    "# complex to int "
   ]
  },
  {
   "cell_type": "code",
   "execution_count": null,
   "id": "630adc6d",
   "metadata": {},
   "outputs": [],
   "source": []
  }
 ],
 "metadata": {
  "kernelspec": {
   "display_name": "Python 3 (ipykernel)",
   "language": "python",
   "name": "python3"
  },
  "language_info": {
   "codemirror_mode": {
    "name": "ipython",
    "version": 3
   },
   "file_extension": ".py",
   "mimetype": "text/x-python",
   "name": "python",
   "nbconvert_exporter": "python",
   "pygments_lexer": "ipython3",
   "version": "3.9.7"
  }
 },
 "nbformat": 4,
 "nbformat_minor": 5
}
