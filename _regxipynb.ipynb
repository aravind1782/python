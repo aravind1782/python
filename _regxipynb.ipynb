{
  "nbformat": 4,
  "nbformat_minor": 0,
  "metadata": {
    "colab": {
      "name": ".regxipynb",
      "provenance": [],
      "authorship_tag": "ABX9TyNq6TgfWzey+WWq9OaDPrZu",
      "include_colab_link": true
    },
    "kernelspec": {
      "name": "python3",
      "display_name": "Python 3"
    },
    "language_info": {
      "name": "python"
    }
  },
  "cells": [
    {
      "cell_type": "markdown",
      "metadata": {
        "id": "view-in-github",
        "colab_type": "text"
      },
      "source": [
        "<a href=\"https://colab.research.google.com/github/aravind1782/python/blob/main/_regxipynb.ipynb\" target=\"_parent\"><img src=\"https://colab.research.google.com/assets/colab-badge.svg\" alt=\"Open In Colab\"/></a>"
      ]
    },
    {
      "cell_type": "code",
      "execution_count": null,
      "metadata": {
        "colab": {
          "base_uri": "https://localhost:8080/"
        },
        "id": "JEA1v6deLOKF",
        "outputId": "ef699ffd-6c91-4917-a69d-15c080559aae"
      },
      "outputs": [
        {
          "output_type": "stream",
          "name": "stdout",
          "text": [
            "YES!\n"
          ]
        }
      ],
      "source": [
        "import re\n",
        "\n",
        "#Check if the string starts with \"The\" and ends with \"Spain\":\n",
        "\n",
        "txt = \"If there is no match, the value None will be returned, instead of the Match Object.\"\n",
        "x = re.search(\"returned\", txt)\n",
        "\n",
        "if x:\n",
        "  print(\"YES!\")\n",
        "else:\n",
        "  print(\"no\")\n",
        "\n"
      ]
    },
    {
      "cell_type": "markdown",
      "source": [
        "##containg all matches"
      ],
      "metadata": {
        "id": "r4jbi0apMwjT"
      }
    },
    {
      "cell_type": "markdown",
      "source": [
        "##findall"
      ],
      "metadata": {
        "id": "Rc5HrknEPAxF"
      }
    },
    {
      "cell_type": "code",
      "source": [
        "import re\n",
        "\n",
        "#Return a list containing every occurrence of \"ai\":\n",
        "\n",
        "txt = \"The rain in Spain\"\n",
        "x = re.findall(\"ai\", txt)\n",
        "print(x)\n",
        "\n"
      ],
      "metadata": {
        "id": "rFu2EL5UM0Io"
      },
      "execution_count": null,
      "outputs": []
    },
    {
      "cell_type": "markdown",
      "source": [
        "##containg all matches"
      ],
      "metadata": {
        "id": "VCTwWavVOpoL"
      }
    },
    {
      "cell_type": "code",
      "source": [
        "import re\n",
        "\n",
        "#Return a list containing every occurrence of \"ai\":\n",
        "\n",
        "txt = \"If there is no match, the value None will be returned, instead of the Match Object\"\n",
        "x = re.findall(\"l\", txt)\n",
        "print(x)\n",
        "\n"
      ],
      "metadata": {
        "colab": {
          "base_uri": "https://localhost:8080/"
        },
        "id": "3m2K2-o5M20s",
        "outputId": "5461f923-8a44-4953-ddbb-d2b411f2144b"
      },
      "execution_count": null,
      "outputs": [
        {
          "output_type": "stream",
          "name": "stdout",
          "text": [
            "['l', 'l', 'l']\n"
          ]
        }
      ]
    },
    {
      "cell_type": "markdown",
      "source": [
        "## searching ()"
      ],
      "metadata": {
        "id": "SevkyzybPDDy"
      }
    },
    {
      "cell_type": "code",
      "source": [
        "import re\n",
        "\n",
        "txt = \"If there is no match, the value None will be returned, instead of the Match Object.a,e,i,o,u\"\n",
        "x = re.search(\"a,e,i,o,u\", txt)\n",
        "print(x)"
      ],
      "metadata": {
        "colab": {
          "base_uri": "https://localhost:8080/"
        },
        "id": "m_jELmAgPLIo",
        "outputId": "30673bc0-8c8c-4549-fcb6-95c1bba833dd"
      },
      "execution_count": null,
      "outputs": [
        {
          "output_type": "stream",
          "name": "stdout",
          "text": [
            "<re.Match object; span=(83, 92), match='a,e,i,o,u'>\n"
          ]
        }
      ]
    },
    {
      "cell_type": "code",
      "source": [
        "import re\n",
        "\n",
        "txt = \"Print the position (start- and end-position) of the first match occurrence.\"\n",
        "x = re.search(\"\\s\", txt)\n",
        "print(x)"
      ],
      "metadata": {
        "colab": {
          "base_uri": "https://localhost:8080/"
        },
        "id": "jYfS9dHQRG69",
        "outputId": "fcf37a93-a541-484b-b68d-27679ee07fc2"
      },
      "execution_count": null,
      "outputs": [
        {
          "output_type": "stream",
          "name": "stdout",
          "text": [
            "<re.Match object; span=(5, 6), match=' '>\n"
          ]
        }
      ]
    }
  ]
}