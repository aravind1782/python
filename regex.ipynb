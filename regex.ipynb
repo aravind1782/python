{
  "nbformat": 4,
  "nbformat_minor": 0,
  "metadata": {
    "colab": {
      "name": "regex.ipynb",
      "provenance": [],
      "authorship_tag": "ABX9TyN5dXT3gQnABpWJ5peV5NUq",
      "include_colab_link": true
    },
    "kernelspec": {
      "name": "python3",
      "display_name": "Python 3"
    },
    "language_info": {
      "name": "python"
    }
  },
  "cells": [
    {
      "cell_type": "markdown",
      "metadata": {
        "id": "view-in-github",
        "colab_type": "text"
      },
      "source": [
        "<a href=\"https://colab.research.google.com/github/aravind1782/python/blob/main/regex.ipynb\" target=\"_parent\"><img src=\"https://colab.research.google.com/assets/colab-badge.svg\" alt=\"Open In Colab\"/></a>"
      ]
    },
    {
      "cell_type": "code",
      "source": [
        "import re\n",
        "txt = \"the rain in spain\"\n",
        "x = re.sub (\"\\s\",\"4\",txt)\n",
        "print(x)"
      ],
      "metadata": {
        "colab": {
          "base_uri": "https://localhost:8080/"
        },
        "id": "_h37856q6x2t",
        "outputId": "c003ca4a-ed6c-4565-f140-5628f1c46a28"
      },
      "execution_count": 7,
      "outputs": [
        {
          "output_type": "stream",
          "name": "stdout",
          "text": [
            "the4rain4in4spain\n"
          ]
        }
      ]
    },
    {
      "cell_type": "markdown",
      "source": [
        "## replacing spaace with numbers"
      ],
      "metadata": {
        "id": "tEVZ4f5E9xfc"
      }
    },
    {
      "cell_type": "code",
      "source": [
        "import re\n",
        "\n",
        "#Replace all white-space characters with the digit \"9\":\n",
        "\n",
        "txt = \"The rain in Spain\"\n",
        "x = re.sub(\"\\s\", \"ss\",txt)\n",
        "print(x)\n"
      ],
      "metadata": {
        "colab": {
          "base_uri": "https://localhost:8080/"
        },
        "id": "gjRqMfdg7VPU",
        "outputId": "2f3ef4f6-ead0-4c4e-c800-9b4fd7959f51"
      },
      "execution_count": 6,
      "outputs": [
        {
          "output_type": "stream",
          "name": "stdout",
          "text": [
            "ThessrainssinssSpain\n"
          ]
        }
      ]
    },
    {
      "cell_type": "code",
      "source": [
        "import re\n",
        "txr = \"the rain in spain\"\n",
        "x = re.search(\"in\",txt)\n",
        "print(x)"
      ],
      "metadata": {
        "colab": {
          "base_uri": "https://localhost:8080/"
        },
        "id": "4Zuf_A-A7mAk",
        "outputId": "53685529-acfb-4b0c-f020-fc27f27aefa1"
      },
      "execution_count": 8,
      "outputs": [
        {
          "output_type": "stream",
          "name": "stdout",
          "text": [
            "<re.Match object; span=(6, 8), match='in'>\n"
          ]
        }
      ]
    },
    {
      "cell_type": "markdown",
      "source": [
        "## finding in the text"
      ],
      "metadata": {
        "id": "Yk6ca4r898ms"
      }
    },
    {
      "cell_type": "code",
      "source": [
        "import re\n",
        "txr = \"the rain in spain\"\n",
        "x = re.findall(\"in\",txt)\n",
        "print(x)\n",
        "if x:\n",
        "  print(\"yes there is a match\")\n",
        "else:\n",
        "  print(\"no match\")"
      ],
      "metadata": {
        "colab": {
          "base_uri": "https://localhost:8080/"
        },
        "id": "OUGM6IRK8Kjl",
        "outputId": "02c711d2-737b-4f61-d001-eafda0fa1e6d"
      },
      "execution_count": 10,
      "outputs": [
        {
          "output_type": "stream",
          "name": "stdout",
          "text": [
            "['in', 'in', 'in']\n",
            "yes there is a match\n"
          ]
        }
      ]
    },
    {
      "cell_type": "code",
      "source": [
        "import re\n",
        "txr = \"the rain in spain\"\n",
        "x = re.findall(\"portugal\",txt)\n",
        "print(x)\n",
        "if x:\n",
        "  print(\"yes there is a match\")\n",
        "else:\n",
        "  print(\"no match\")"
      ],
      "metadata": {
        "colab": {
          "base_uri": "https://localhost:8080/"
        },
        "id": "iSJ6o2kG89-1",
        "outputId": "2774ce40-10ec-4b57-bf06-b55a85f36b00"
      },
      "execution_count": 11,
      "outputs": [
        {
          "output_type": "stream",
          "name": "stdout",
          "text": [
            "[]\n",
            "no match\n"
          ]
        }
      ]
    },
    {
      "cell_type": "code",
      "source": [
        "import re\n",
        "txt = \"the rain in spain\"\n",
        "x = re.split (\"\\s\",txt)\n",
        "print(x)"
      ],
      "metadata": {
        "colab": {
          "base_uri": "https://localhost:8080/"
        },
        "id": "EIEby1Id9Jmk",
        "outputId": "b5e696fa-da08-4faf-be13-fcd6bef3d25c"
      },
      "execution_count": 12,
      "outputs": [
        {
          "output_type": "stream",
          "name": "stdout",
          "text": [
            "['the', 'rain', 'in', 'spain']\n"
          ]
        }
      ]
    },
    {
      "cell_type": "markdown",
      "source": [
        "##spliting the text by selecting number"
      ],
      "metadata": {
        "id": "xeeiJNkL-Fjb"
      }
    },
    {
      "cell_type": "code",
      "source": [
        "import re\n",
        "txt = \"the rain in spain\"\n",
        "x = re.split (\"\\s\",txt,2)\n",
        "print(x)"
      ],
      "metadata": {
        "colab": {
          "base_uri": "https://localhost:8080/"
        },
        "id": "xGFplO_Q9Z3c",
        "outputId": "d27925c1-3bb5-4186-e1f9-6269a77e685b"
      },
      "execution_count": 13,
      "outputs": [
        {
          "output_type": "stream",
          "name": "stdout",
          "text": [
            "['the', 'rain', 'in spain']\n"
          ]
        }
      ]
    }
  ]
}