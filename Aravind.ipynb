{
  "nbformat": 4,
  "nbformat_minor": 0,
  "metadata": {
    "colab": {
      "name": "Aravind.ipynb",
      "provenance": [],
      "collapsed_sections": [],
      "authorship_tag": "ABX9TyPDLcfD1gX9bVTDZMcuELBY",
      "include_colab_link": true
    },
    "kernelspec": {
      "name": "python3",
      "display_name": "Python 3"
    },
    "language_info": {
      "name": "python"
    }
  },
  "cells": [
    {
      "cell_type": "markdown",
      "metadata": {
        "id": "view-in-github",
        "colab_type": "text"
      },
      "source": [
        "<a href=\"https://colab.research.google.com/github/aravind1782/python/blob/main/Aravind.ipynb\" target=\"_parent\"><img src=\"https://colab.research.google.com/assets/colab-badge.svg\" alt=\"Open In Colab\"/></a>"
      ]
    },
    {
      "cell_type": "code",
      "execution_count": null,
      "metadata": {
        "id": "m4YplLyGWXuF"
      },
      "outputs": [],
      "source": [
        "##fruits"
      ]
    },
    {
      "cell_type": "code",
      "source": [
        "fruit=('apple','banana','orange','guava')\n",
        "\n",
        "print(fruit)\n",
        "print(fruit[0])\n",
        "print(fruit[-1])\n",
        "print(fruit[-2])\n",
        "print(fruit[0:2])\n",
        "print(fruit[0:])\n"
      ],
      "metadata": {
        "colab": {
          "base_uri": "https://localhost:8080/"
        },
        "id": "UgqnwwDBWdtS",
        "outputId": "5231080e-74cd-4369-e7d0-e597e53bb0c9"
      },
      "execution_count": null,
      "outputs": [
        {
          "output_type": "stream",
          "name": "stdout",
          "text": [
            "('apple', 'banana', 'orange', 'guava')\n",
            "apple\n",
            "guava\n",
            "orange\n",
            "('apple', 'banana')\n",
            "('apple', 'banana', 'orange', 'guava')\n"
          ]
        }
      ]
    },
    {
      "cell_type": "markdown",
      "source": [
        "##append"
      ],
      "metadata": {
        "id": "sNeWQiV3aHF4"
      }
    },
    {
      "cell_type": "code",
      "source": [
        "fruit=['apple','banana','guava','pineapple','watermelon']\n",
        "print(fruit)\n",
        "fruit.append('mango')\n",
        "print(fruit)\n",
        "fruit.insert(2,'kiwi')\n",
        "print(fruit)\n"
      ],
      "metadata": {
        "colab": {
          "base_uri": "https://localhost:8080/"
        },
        "id": "f9Q9HD5gaOBc",
        "outputId": "5ff6065c-4a61-488f-961a-d61b17064306"
      },
      "execution_count": null,
      "outputs": [
        {
          "output_type": "stream",
          "name": "stdout",
          "text": [
            "['apple', 'banana', 'guava', 'pineapple', 'watermelon']\n",
            "['apple', 'banana', 'guava', 'pineapple', 'watermelon', 'mango']\n",
            "['apple', 'banana', 'kiwi', 'guava', 'pineapple', 'watermelon', 'mango']\n"
          ]
        }
      ]
    },
    {
      "cell_type": "markdown",
      "source": [
        "##extend\n"
      ],
      "metadata": {
        "id": "CSHOLbigdeeR"
      }
    },
    {
      "cell_type": "code",
      "source": [
        "fruit=['apple','banana','guava','pineapple','watermelon']\n",
        "fruits=['orange',]\n",
        "print(\"delicious\")\n",
        "fruit.extend(fruits)\n",
        "print(fruit)\n",
        "\n",
        "\n"
      ],
      "metadata": {
        "colab": {
          "base_uri": "https://localhost:8080/"
        },
        "id": "mNM0z1l5drwH",
        "outputId": "a4b891f7-7424-4c4c-d9a4-1d0b2ec0d7d5"
      },
      "execution_count": null,
      "outputs": [
        {
          "output_type": "stream",
          "name": "stdout",
          "text": [
            "delicious\n",
            "['apple', 'banana', 'guava', 'pineapple', 'watermelon', 'orange']\n"
          ]
        }
      ]
    },
    {
      "cell_type": "code",
      "source": [
        "##removing"
      ],
      "metadata": {
        "id": "biDACpEQfCiF"
      },
      "execution_count": null,
      "outputs": []
    },
    {
      "cell_type": "code",
      "source": [
        "fruit=['apple','banana','guava','pineapple','watermelon']\n",
        "print(fruit)\n",
        "fruit.remove('apple')\n",
        "print(fruit)"
      ],
      "metadata": {
        "colab": {
          "base_uri": "https://localhost:8080/"
        },
        "id": "pET3mUHnfJK2",
        "outputId": "e09180b6-1494-43e6-a3b4-5838adaa7984"
      },
      "execution_count": null,
      "outputs": [
        {
          "output_type": "stream",
          "name": "stdout",
          "text": [
            "['apple', 'banana', 'guava', 'pineapple', 'watermelon']\n",
            "['banana', 'guava', 'pineapple', 'watermelon']\n"
          ]
        }
      ]
    },
    {
      "cell_type": "code",
      "source": [
        "num=[3,4,5,6,1,2]\n",
        "num.sort()\n",
        "print(num)\n",
        "num.sort(reverse=True)\n",
        "print(num)"
      ],
      "metadata": {
        "colab": {
          "base_uri": "https://localhost:8080/"
        },
        "id": "V7vhH1KxjbTW",
        "outputId": "5d5aa81a-9ad3-46bf-9db7-3b2258898745"
      },
      "execution_count": null,
      "outputs": [
        {
          "output_type": "stream",
          "name": "stdout",
          "text": [
            "[1, 2, 3, 4, 5, 6]\n",
            "[6, 5, 4, 3, 2, 1]\n"
          ]
        }
      ]
    },
    {
      "cell_type": "markdown",
      "source": [
        "pop"
      ],
      "metadata": {
        "id": "8PrJ91CylmJN"
      }
    },
    {
      "cell_type": "code",
      "source": [
        "details=['name','rollno','marks']\n",
        "## Printing\n",
        "print(details)\n",
        "## Inserting\n",
        "details.insert(3,'address')\n",
        "print(details)\n",
        "## Adding\n",
        "details.append('village')\n",
        "print(details)\n",
        "## Removing\n",
        "details.remove('marks')\n",
        "print(details)\n",
        "## Pop\n",
        "details.pop(2)\n",
        "print(details)\n",
        "## Delete\n",
        "del details[1]\n",
        "print(details)"
      ],
      "metadata": {
        "colab": {
          "base_uri": "https://localhost:8080/"
        },
        "id": "uzk2MZtTln2V",
        "outputId": "dd815131-d629-4893-8c65-b4be7445e474"
      },
      "execution_count": null,
      "outputs": [
        {
          "output_type": "stream",
          "name": "stdout",
          "text": [
            "['name', 'rollno', 'marks']\n",
            "['name', 'rollno', 'marks', 'address']\n",
            "['name', 'rollno', 'marks', 'address', 'village']\n",
            "['name', 'rollno', 'address', 'village']\n",
            "['name', 'rollno', 'village']\n",
            "['name', 'village']\n"
          ]
        }
      ]
    },
    {
      "cell_type": "code",
      "source": [
        "alphabet=['a','b','C','d','B']\n",
        "alphabet.sort()\n",
        "print(alphabet)\n",
        "alphabet.sort(reverse=True)\n",
        "print(alphabet)"
      ],
      "metadata": {
        "colab": {
          "base_uri": "https://localhost:8080/"
        },
        "id": "m7uMyaAymELL",
        "outputId": "a0463ad0-6e61-4a2d-917b-234265f31915"
      },
      "execution_count": null,
      "outputs": [
        {
          "output_type": "stream",
          "name": "stdout",
          "text": [
            "['B', 'C', 'a', 'b', 'd']\n",
            "['d', 'b', 'a', 'C', 'B']\n"
          ]
        }
      ]
    },
    {
      "cell_type": "code",
      "source": [
        "## lenght\n",
        "num=['05','07,','22','08','64','55']\n",
        "print(num)\n",
        "print(len(num))"
      ],
      "metadata": {
        "colab": {
          "base_uri": "https://localhost:8080/"
        },
        "id": "gnT4CYt4oBRX",
        "outputId": "7a015384-af6b-4712-eeec-e472d339b0d6"
      },
      "execution_count": null,
      "outputs": [
        {
          "output_type": "stream",
          "name": "stdout",
          "text": [
            "['05', '07,', '22', '08', '64', '55']\n",
            "6\n"
          ]
        }
      ]
    },
    {
      "cell_type": "code",
      "source": [
        "## reverse\n",
        "num=[1,3,8,99,45]\n",
        "num.reverse()\n",
        "print(num)"
      ],
      "metadata": {
        "colab": {
          "base_uri": "https://localhost:8080/"
        },
        "id": "eoMULlMctmul",
        "outputId": "5b80f6a8-ffb6-4552-b6af-746f142f1c06"
      },
      "execution_count": null,
      "outputs": [
        {
          "output_type": "stream",
          "name": "stdout",
          "text": [
            "[45, 99, 8, 3, 1]\n"
          ]
        }
      ]
    },
    {
      "cell_type": "code",
      "source": [
        "## for loop\n",
        "colours=['orange','red','blue','grey']\n",
        "for i in range(0, 4):\n",
        "  print(colours[i])"
      ],
      "metadata": {
        "colab": {
          "base_uri": "https://localhost:8080/"
        },
        "id": "tKz3kdutuP1V",
        "outputId": "30561005-5b74-445e-9b8e-cc0b7aa072b3"
      },
      "execution_count": null,
      "outputs": [
        {
          "output_type": "stream",
          "name": "stdout",
          "text": [
            "orange\n",
            "red\n",
            "blue\n",
            "grey\n"
          ]
        }
      ]
    },
    {
      "cell_type": "code",
      "source": [
        "## while loop\n",
        "colours=['orange','red','blue','grey']\n",
        "i=0\n",
        "while i<=3:\n",
        "  print(colours[i])\n",
        "  i=i+1"
      ],
      "metadata": {
        "colab": {
          "base_uri": "https://localhost:8080/"
        },
        "id": "byOnDfooul9s",
        "outputId": "d0281c00-e717-47f1-c425-4e19a5a26ec4"
      },
      "execution_count": null,
      "outputs": [
        {
          "output_type": "stream",
          "name": "stdout",
          "text": [
            "orange\n",
            "red\n",
            "blue\n",
            "grey\n"
          ]
        }
      ]
    },
    {
      "cell_type": "code",
      "source": [
        "## changing all elements in list into upper case\n",
        "colours=['orange','red','green','yellow']\n",
        "Colours=[i.upper() for i in colours]\n",
        "print(Colours)"
      ],
      "metadata": {
        "colab": {
          "base_uri": "https://localhost:8080/"
        },
        "id": "vWF1xkOYvJfG",
        "outputId": "371feae4-d32f-4a16-b6af-d68123fdd8eb"
      },
      "execution_count": null,
      "outputs": [
        {
          "output_type": "stream",
          "name": "stdout",
          "text": [
            "['ORANGE', 'RED', 'GREEN', 'YELLOW']\n"
          ]
        }
      ]
    },
    {
      "cell_type": "code",
      "source": [
        "## Copy list\n",
        "rainbow=['violet','indigo','blue','green','yellow','orange','red']\n",
        "colours=rainbow.copy()\n",
        "print(colours)"
      ],
      "metadata": {
        "colab": {
          "base_uri": "https://localhost:8080/"
        },
        "id": "LJWNnB5Owc10",
        "outputId": "976aeedb-e35d-4207-d043-ed22ea05dcb7"
      },
      "execution_count": null,
      "outputs": [
        {
          "output_type": "stream",
          "name": "stdout",
          "text": [
            "['violet', 'indigo', 'blue', 'green', 'yellow', 'orange', 'red']\n"
          ]
        }
      ]
    },
    {
      "cell_type": "code",
      "source": [
        "## Joining of lists\n",
        "colours=['red','blue','green','yellow']\n",
        "rainbow=['violet','indigo','blue','green','yellow','orange','red']\n",
        "print(colours+rainbow)"
      ],
      "metadata": {
        "colab": {
          "base_uri": "https://localhost:8080/"
        },
        "id": "gJbkmBbdw3G8",
        "outputId": "2c9514d3-1fe9-41c9-b22b-a2d5f5c3449d"
      },
      "execution_count": null,
      "outputs": [
        {
          "output_type": "stream",
          "name": "stdout",
          "text": [
            "['red', 'blue', 'green', 'yellow', 'violet', 'indigo', 'blue', 'green', 'yellow', 'orange', 'red']\n"
          ]
        }
      ]
    },
    {
      "cell_type": "code",
      "source": [
        "## printing th index of an item\n",
        "colours=['orange','red','green','yellow']\n",
        "colours.index('green')"
      ],
      "metadata": {
        "colab": {
          "base_uri": "https://localhost:8080/"
        },
        "id": "EIqiAEHgxAXV",
        "outputId": "553ac81f-9ace-4b0e-9624-136d4f86f8a1"
      },
      "execution_count": null,
      "outputs": [
        {
          "output_type": "execute_result",
          "data": {
            "text/plain": [
              "2"
            ]
          },
          "metadata": {},
          "execution_count": 12
        }
      ]
    },
    {
      "cell_type": "code",
      "source": [
        "## changing an element\n",
        "colours=['orange','red','green','yellow']\n",
        "colours[2]='blue'\n",
        "print(colours)"
      ],
      "metadata": {
        "colab": {
          "base_uri": "https://localhost:8080/"
        },
        "id": "0qeIJ31YxRdU",
        "outputId": "9fa4cc73-911d-452e-dba6-685a8c7eadcc"
      },
      "execution_count": null,
      "outputs": [
        {
          "output_type": "stream",
          "name": "stdout",
          "text": [
            "['orange', 'red', 'blue', 'yellow']\n"
          ]
        }
      ]
    },
    {
      "cell_type": "code",
      "source": [
        "## replcing items\n",
        "colours=['orange','red','green','yellow']\n",
        "colours[1:4]=['grey']\n",
        "print(colours)"
      ],
      "metadata": {
        "colab": {
          "base_uri": "https://localhost:8080/"
        },
        "id": "iXpeNLPExW-R",
        "outputId": "e612efe5-a579-453e-aba3-3256195c85fc"
      },
      "execution_count": null,
      "outputs": [
        {
          "output_type": "stream",
          "name": "stdout",
          "text": [
            "['orange', 'grey']\n"
          ]
        }
      ]
    }
  ]
}